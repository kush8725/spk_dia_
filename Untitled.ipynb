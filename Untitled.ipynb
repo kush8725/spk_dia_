{
 "cells": [
  {
   "cell_type": "code",
   "execution_count": 1,
   "id": "590c955b",
   "metadata": {},
   "outputs": [
    {
     "name": "stderr",
     "output_type": "stream",
     "text": [
      "The torchaudio backend is switched to 'soundfile'. Note that 'sox_io' is not supported on Windows.\n",
      "C:\\Users\\kush8\\anaconda3\\lib\\site-packages\\torchvision\\io\\image.py:13: UserWarning: Failed to load image Python extension: [WinError 127] The specified procedure could not be found\n",
      "  warn(f\"Failed to load image Python extension: {e}\")\n",
      "torchvision is not available - cannot save figures\n",
      "The torchaudio backend is switched to 'soundfile'. Note that 'sox_io' is not supported on Windows.\n"
     ]
    }
   ],
   "source": [
    "import os\n",
    "import matplotlib.pyplot as plt\n",
    "import pandas as pd\n",
    "import soundfile as sf\n",
    "import matplotlib.pyplot as plt\n",
    "\n",
    "from simple_diarizer.simple_diarizer.diarizer import Diarizer\n",
    "from simple_diarizer.simple_diarizer.utils import combined_waveplot"
   ]
  },
  {
   "cell_type": "code",
   "execution_count": 2,
   "id": "f94ca6c9",
   "metadata": {},
   "outputs": [],
   "source": [
    "import speechbrain\n",
    "def spk_dia(wav_file,csv_file,cluster,window_size,time_period):\n",
    "    \n",
    "    \n",
    "    diar = Diarizer(\n",
    "        embed_model='ecapa', # supported types: ['xvec', 'ecapa']\n",
    "        cluster_method=cluster, # supported types: ['ahc', 'sc']\n",
    "        window=window_size, # size of window to extract embeddings (in seconds)\n",
    "        period=time_period # hop of window (in seconds)\n",
    "    )\n",
    "\n",
    "    segments = diar.diarize(wav_file, num_speakers=2)\n",
    "\n",
    "    signal, fs = sf.read(wav_file)\n",
    "    #combined_waveplot(signal, fs, segments)\n",
    "    #plt.show()\n",
    "    \n",
    "    hypotheses=[]*121\n",
    "    for item in segments:\n",
    "        hypotheses.append((item['label'],item['start'],item['end']))\n",
    "\n",
    "\n",
    "    tb = pd.read_csv(csv_file,sep='\\s+',header=None)\n",
    "    cols = tb.columns.tolist()\n",
    "    cols = cols[-1:] + cols[:-1]\n",
    "    tb=tb[cols]\n",
    "\n",
    "    reference=[]\n",
    "    for i in range(len(tb)):\n",
    "        reference.append([tb[2][i],tb[0][i],tb[1][i]])\n",
    "\n",
    "    for i in range(len(reference)):\n",
    "        if reference[i][0]=='S1':\n",
    "            reference[i][0]=1\n",
    "        else: reference[i][0]=0\n",
    "\n",
    "    for i in range(len(hypotheses)):\n",
    "        hypotheses[i]=list(hypotheses[i])\n",
    "\n",
    "\n",
    "    for i in range(len(hypotheses)):\n",
    "        hypotheses[i][0]=str(hypotheses[i][0])\n",
    "\n",
    "    for i in range(len(reference)):\n",
    "        reference[i][0]=str(reference[i][0])\n",
    "\n",
    "    for i in range(len(reference)):\n",
    "        reference[i]=tuple(reference[i])\n",
    "    for i in range(len(hypotheses)):\n",
    "        hypotheses[i]=tuple(hypotheses[i])\n",
    "    arr=[reference,hypotheses]\n",
    "    return arr"
   ]
  },
  {
   "cell_type": "code",
   "execution_count": 3,
   "id": "1d2d8eb2",
   "metadata": {},
   "outputs": [],
   "source": [
    "#wav=r'C:\\Users\\kush8\\OneDrive\\Desktop\\Hindi_spk\\audio\\charul\\MEGA_201013_24_02_2022 - Vipul SHARMAA.wav'\n",
    "#spk=r'C:\\Users\\kush8\\OneDrive\\Desktop\\Hindi_spk\\spk\\charul\\MEGA_201013_24_02_2022 - Vipul SHARMAA.spk.txt'"
   ]
  },
  {
   "cell_type": "code",
   "execution_count": 4,
   "id": "a2ee4dfe",
   "metadata": {},
   "outputs": [
    {
     "name": "stderr",
     "output_type": "stream",
     "text": [
      "Using cache found in C:\\Users\\kush8/.cache\\torch\\hub\\snakers4_silero-vad_master\n"
     ]
    },
    {
     "ename": "ValueError",
     "evalue": "The reference \"MaskNet\" is not valid",
     "output_type": "error",
     "traceback": [
      "\u001b[1;31m---------------------------------------------------------------------------\u001b[0m",
      "\u001b[1;31mValueError\u001b[0m                                Traceback (most recent call last)",
      "\u001b[1;32m~\\AppData\\Local\\Temp/ipykernel_15072/1678175726.py\u001b[0m in \u001b[0;36m<module>\u001b[1;34m\u001b[0m\n\u001b[1;32m----> 1\u001b[1;33m \u001b[0mspk_dia\u001b[0m\u001b[1;33m(\u001b[0m\u001b[0mwav\u001b[0m\u001b[1;33m,\u001b[0m\u001b[0mspk\u001b[0m\u001b[1;33m,\u001b[0m\u001b[1;34m'sc'\u001b[0m\u001b[1;33m,\u001b[0m\u001b[1;36m1.5\u001b[0m\u001b[1;33m,\u001b[0m\u001b[1;36m0.75\u001b[0m\u001b[1;33m)\u001b[0m\u001b[1;33m\u001b[0m\u001b[1;33m\u001b[0m\u001b[0m\n\u001b[0m",
      "\u001b[1;32m~\\AppData\\Local\\Temp/ipykernel_15072/2090198879.py\u001b[0m in \u001b[0;36mspk_dia\u001b[1;34m(wav_file, csv_file, cluster, window_size, time_period)\u001b[0m\n\u001b[0;32m      3\u001b[0m \u001b[1;33m\u001b[0m\u001b[0m\n\u001b[0;32m      4\u001b[0m \u001b[1;33m\u001b[0m\u001b[0m\n\u001b[1;32m----> 5\u001b[1;33m     diar = Diarizer(\n\u001b[0m\u001b[0;32m      6\u001b[0m         \u001b[0membed_model\u001b[0m\u001b[1;33m=\u001b[0m\u001b[1;34m'ecapa'\u001b[0m\u001b[1;33m,\u001b[0m \u001b[1;31m# supported types: ['xvec', 'ecapa']\u001b[0m\u001b[1;33m\u001b[0m\u001b[1;33m\u001b[0m\u001b[0m\n\u001b[0;32m      7\u001b[0m         \u001b[0mcluster_method\u001b[0m\u001b[1;33m=\u001b[0m\u001b[0mcluster\u001b[0m\u001b[1;33m,\u001b[0m \u001b[1;31m# supported types: ['ahc', 'sc']\u001b[0m\u001b[1;33m\u001b[0m\u001b[1;33m\u001b[0m\u001b[0m\n",
      "\u001b[1;32m~\\anaconda3\\lib\\site-packages\\simple_diarizer\\simple_diarizer\\diarizer.py\u001b[0m in \u001b[0;36m__init__\u001b[1;34m(self, embed_model, cluster_method, window, period)\u001b[0m\n\u001b[0;32m     49\u001b[0m             \u001b[1;31m#                                                   savedir=\"pretrained_models/spkrec-ecapa-voxceleb\",\u001b[0m\u001b[1;33m\u001b[0m\u001b[1;33m\u001b[0m\u001b[0m\n\u001b[0;32m     50\u001b[0m             \u001b[1;31m#                                                   run_opts=self.run_opts)\u001b[0m\u001b[1;33m\u001b[0m\u001b[1;33m\u001b[0m\u001b[0m\n\u001b[1;32m---> 51\u001b[1;33m              self.embed_model = EncoderASR.from_hparams(source=r\"C:\\Users\\kush8\\OneDrive\\Desktop\\results\\ecapa_augment\",\n\u001b[0m\u001b[0;32m     52\u001b[0m                                                                \u001b[0mhparams\u001b[0m\u001b[1;33m=\u001b[0m\u001b[1;34mr'C:\\Users\\kush8\\OneDrive\\Desktop\\results\\ecapa_augment\\1986\\hyperparams.yaml'\u001b[0m\u001b[1;33m,\u001b[0m\u001b[1;33m\u001b[0m\u001b[1;33m\u001b[0m\u001b[0m\n\u001b[0;32m     53\u001b[0m                                                                run_opts=self.run_opts)\n",
      "\u001b[1;32m~\\anaconda3\\Lib\\site-packages\\speechbrain\\speechbrain\\pretrained\\interfaces.py\u001b[0m in \u001b[0;36mfrom_hparams\u001b[1;34m(cls, source, hparams_file, pymodule_file, overrides, savedir, use_auth_token, **kwargs)\u001b[0m\n\u001b[0;32m    357\u001b[0m         \u001b[1;31m# Load the modules:\u001b[0m\u001b[1;33m\u001b[0m\u001b[1;33m\u001b[0m\u001b[0m\n\u001b[0;32m    358\u001b[0m         \u001b[1;32mwith\u001b[0m \u001b[0mopen\u001b[0m\u001b[1;33m(\u001b[0m\u001b[0mhparams_local_path\u001b[0m\u001b[1;33m)\u001b[0m \u001b[1;32mas\u001b[0m \u001b[0mfin\u001b[0m\u001b[1;33m:\u001b[0m\u001b[1;33m\u001b[0m\u001b[1;33m\u001b[0m\u001b[0m\n\u001b[1;32m--> 359\u001b[1;33m             \u001b[0mhparams\u001b[0m \u001b[1;33m=\u001b[0m \u001b[0mload_hyperpyyaml\u001b[0m\u001b[1;33m(\u001b[0m\u001b[0mfin\u001b[0m\u001b[1;33m,\u001b[0m \u001b[0moverrides\u001b[0m\u001b[1;33m)\u001b[0m\u001b[1;33m\u001b[0m\u001b[1;33m\u001b[0m\u001b[0m\n\u001b[0m\u001b[0;32m    360\u001b[0m \u001b[1;33m\u001b[0m\u001b[0m\n\u001b[0;32m    361\u001b[0m         \u001b[1;31m# Pretraining:\u001b[0m\u001b[1;33m\u001b[0m\u001b[1;33m\u001b[0m\u001b[0m\n",
      "\u001b[1;32m~\\anaconda3\\lib\\site-packages\\hyperpyyaml\\core.py\u001b[0m in \u001b[0;36mload_hyperpyyaml\u001b[1;34m(yaml_stream, overrides, overrides_must_match)\u001b[0m\n\u001b[0;32m    150\u001b[0m     \u001b[0mCounter\u001b[0m\u001b[1;33m(\u001b[0m\u001b[1;33m{\u001b[0m\u001b[1;34m'b'\u001b[0m\u001b[1;33m:\u001b[0m \u001b[1;36m3\u001b[0m\u001b[1;33m}\u001b[0m\u001b[1;33m)\u001b[0m\u001b[1;33m\u001b[0m\u001b[1;33m\u001b[0m\u001b[0m\n\u001b[0;32m    151\u001b[0m     '''\n\u001b[1;32m--> 152\u001b[1;33m     yaml_stream = resolve_references(\n\u001b[0m\u001b[0;32m    153\u001b[0m         \u001b[0myaml_stream\u001b[0m\u001b[1;33m,\u001b[0m \u001b[0moverrides\u001b[0m\u001b[1;33m,\u001b[0m \u001b[0moverrides_must_match\u001b[0m\u001b[1;33m\u001b[0m\u001b[1;33m\u001b[0m\u001b[0m\n\u001b[0;32m    154\u001b[0m     )\n",
      "\u001b[1;32m~\\anaconda3\\lib\\site-packages\\hyperpyyaml\\core.py\u001b[0m in \u001b[0;36mresolve_references\u001b[1;34m(yaml_stream, overrides, overrides_must_match)\u001b[0m\n\u001b[0;32m    304\u001b[0m             \u001b[0moverrides\u001b[0m \u001b[1;33m=\u001b[0m \u001b[0mruamel_yaml\u001b[0m\u001b[1;33m.\u001b[0m\u001b[0mload\u001b[0m\u001b[1;33m(\u001b[0m\u001b[0moverrides\u001b[0m\u001b[1;33m)\u001b[0m\u001b[1;33m\u001b[0m\u001b[1;33m\u001b[0m\u001b[0m\n\u001b[0;32m    305\u001b[0m         \u001b[0mrecursive_update\u001b[0m\u001b[1;33m(\u001b[0m\u001b[0mpreview\u001b[0m\u001b[1;33m,\u001b[0m \u001b[0moverrides\u001b[0m\u001b[1;33m,\u001b[0m \u001b[0mmust_match\u001b[0m\u001b[1;33m=\u001b[0m\u001b[0moverrides_must_match\u001b[0m\u001b[1;33m)\u001b[0m\u001b[1;33m\u001b[0m\u001b[1;33m\u001b[0m\u001b[0m\n\u001b[1;32m--> 306\u001b[1;33m     \u001b[0m_walk_tree_and_resolve\u001b[0m\u001b[1;33m(\u001b[0m\u001b[1;34m\"root\"\u001b[0m\u001b[1;33m,\u001b[0m \u001b[0mpreview\u001b[0m\u001b[1;33m,\u001b[0m \u001b[0mpreview\u001b[0m\u001b[1;33m,\u001b[0m \u001b[0moverrides\u001b[0m\u001b[1;33m,\u001b[0m \u001b[0mfile_path\u001b[0m\u001b[1;33m)\u001b[0m\u001b[1;33m\u001b[0m\u001b[1;33m\u001b[0m\u001b[0m\n\u001b[0m\u001b[0;32m    307\u001b[0m \u001b[1;33m\u001b[0m\u001b[0m\n\u001b[0;32m    308\u001b[0m     \u001b[1;31m# Dump back to string so we can load with bells and whistles\u001b[0m\u001b[1;33m\u001b[0m\u001b[1;33m\u001b[0m\u001b[0m\n",
      "\u001b[1;32m~\\anaconda3\\lib\\site-packages\\hyperpyyaml\\core.py\u001b[0m in \u001b[0;36m_walk_tree_and_resolve\u001b[1;34m(key, current_node, tree, overrides, file_path)\u001b[0m\n\u001b[0;32m    351\u001b[0m         \u001b[1;32mfor\u001b[0m \u001b[0mk\u001b[0m\u001b[1;33m,\u001b[0m \u001b[0msub_node\u001b[0m \u001b[1;32min\u001b[0m \u001b[0mcurrent_node\u001b[0m\u001b[1;33m.\u001b[0m\u001b[0mitems\u001b[0m\u001b[1;33m(\u001b[0m\u001b[1;33m)\u001b[0m\u001b[1;33m:\u001b[0m\u001b[1;33m\u001b[0m\u001b[1;33m\u001b[0m\u001b[0m\n\u001b[0;32m    352\u001b[0m             \u001b[0msub_key\u001b[0m \u001b[1;33m=\u001b[0m \u001b[0mk\u001b[0m \u001b[1;32mif\u001b[0m \u001b[0mkey\u001b[0m \u001b[1;33m==\u001b[0m \u001b[1;34m\"root\"\u001b[0m \u001b[1;32melse\u001b[0m \u001b[1;34mf\"{key}[{k}]\"\u001b[0m\u001b[1;33m\u001b[0m\u001b[1;33m\u001b[0m\u001b[0m\n\u001b[1;32m--> 353\u001b[1;33m             current_node[k] = _walk_tree_and_resolve(\n\u001b[0m\u001b[0;32m    354\u001b[0m                 \u001b[0msub_key\u001b[0m\u001b[1;33m,\u001b[0m \u001b[0msub_node\u001b[0m\u001b[1;33m,\u001b[0m \u001b[0mtree\u001b[0m\u001b[1;33m,\u001b[0m \u001b[0moverrides\u001b[0m\u001b[1;33m,\u001b[0m \u001b[0mfile_path\u001b[0m\u001b[1;33m\u001b[0m\u001b[1;33m\u001b[0m\u001b[0m\n\u001b[0;32m    355\u001b[0m             )\n",
      "\u001b[1;32m~\\anaconda3\\lib\\site-packages\\hyperpyyaml\\core.py\u001b[0m in \u001b[0;36m_walk_tree_and_resolve\u001b[1;34m(key, current_node, tree, overrides, file_path)\u001b[0m\n\u001b[0;32m    351\u001b[0m         \u001b[1;32mfor\u001b[0m \u001b[0mk\u001b[0m\u001b[1;33m,\u001b[0m \u001b[0msub_node\u001b[0m \u001b[1;32min\u001b[0m \u001b[0mcurrent_node\u001b[0m\u001b[1;33m.\u001b[0m\u001b[0mitems\u001b[0m\u001b[1;33m(\u001b[0m\u001b[1;33m)\u001b[0m\u001b[1;33m:\u001b[0m\u001b[1;33m\u001b[0m\u001b[1;33m\u001b[0m\u001b[0m\n\u001b[0;32m    352\u001b[0m             \u001b[0msub_key\u001b[0m \u001b[1;33m=\u001b[0m \u001b[0mk\u001b[0m \u001b[1;32mif\u001b[0m \u001b[0mkey\u001b[0m \u001b[1;33m==\u001b[0m \u001b[1;34m\"root\"\u001b[0m \u001b[1;32melse\u001b[0m \u001b[1;34mf\"{key}[{k}]\"\u001b[0m\u001b[1;33m\u001b[0m\u001b[1;33m\u001b[0m\u001b[0m\n\u001b[1;32m--> 353\u001b[1;33m             current_node[k] = _walk_tree_and_resolve(\n\u001b[0m\u001b[0;32m    354\u001b[0m                 \u001b[0msub_key\u001b[0m\u001b[1;33m,\u001b[0m \u001b[0msub_node\u001b[0m\u001b[1;33m,\u001b[0m \u001b[0mtree\u001b[0m\u001b[1;33m,\u001b[0m \u001b[0moverrides\u001b[0m\u001b[1;33m,\u001b[0m \u001b[0mfile_path\u001b[0m\u001b[1;33m\u001b[0m\u001b[1;33m\u001b[0m\u001b[0m\n\u001b[0;32m    355\u001b[0m             )\n",
      "\u001b[1;32m~\\anaconda3\\lib\\site-packages\\hyperpyyaml\\core.py\u001b[0m in \u001b[0;36m_walk_tree_and_resolve\u001b[1;34m(key, current_node, tree, overrides, file_path)\u001b[0m\n\u001b[0;32m    351\u001b[0m         \u001b[1;32mfor\u001b[0m \u001b[0mk\u001b[0m\u001b[1;33m,\u001b[0m \u001b[0msub_node\u001b[0m \u001b[1;32min\u001b[0m \u001b[0mcurrent_node\u001b[0m\u001b[1;33m.\u001b[0m\u001b[0mitems\u001b[0m\u001b[1;33m(\u001b[0m\u001b[1;33m)\u001b[0m\u001b[1;33m:\u001b[0m\u001b[1;33m\u001b[0m\u001b[1;33m\u001b[0m\u001b[0m\n\u001b[0;32m    352\u001b[0m             \u001b[0msub_key\u001b[0m \u001b[1;33m=\u001b[0m \u001b[0mk\u001b[0m \u001b[1;32mif\u001b[0m \u001b[0mkey\u001b[0m \u001b[1;33m==\u001b[0m \u001b[1;34m\"root\"\u001b[0m \u001b[1;32melse\u001b[0m \u001b[1;34mf\"{key}[{k}]\"\u001b[0m\u001b[1;33m\u001b[0m\u001b[1;33m\u001b[0m\u001b[0m\n\u001b[1;32m--> 353\u001b[1;33m             current_node[k] = _walk_tree_and_resolve(\n\u001b[0m\u001b[0;32m    354\u001b[0m                 \u001b[0msub_key\u001b[0m\u001b[1;33m,\u001b[0m \u001b[0msub_node\u001b[0m\u001b[1;33m,\u001b[0m \u001b[0mtree\u001b[0m\u001b[1;33m,\u001b[0m \u001b[0moverrides\u001b[0m\u001b[1;33m,\u001b[0m \u001b[0mfile_path\u001b[0m\u001b[1;33m\u001b[0m\u001b[1;33m\u001b[0m\u001b[0m\n\u001b[0;32m    355\u001b[0m             )\n",
      "\u001b[1;32m~\\anaconda3\\lib\\site-packages\\hyperpyyaml\\core.py\u001b[0m in \u001b[0;36m_walk_tree_and_resolve\u001b[1;34m(key, current_node, tree, overrides, file_path)\u001b[0m\n\u001b[0;32m    366\u001b[0m         \u001b[1;32melif\u001b[0m \u001b[0mtag_value\u001b[0m \u001b[1;32min\u001b[0m \u001b[1;33m[\u001b[0m\u001b[1;34m\"!ref\"\u001b[0m\u001b[1;33m,\u001b[0m \u001b[1;34m\"!copy\"\u001b[0m\u001b[1;33m]\u001b[0m\u001b[1;33m:\u001b[0m\u001b[1;33m\u001b[0m\u001b[1;33m\u001b[0m\u001b[0m\n\u001b[0;32m    367\u001b[0m             \u001b[0mcopy_mode\u001b[0m \u001b[1;33m=\u001b[0m \u001b[0mtag_value\u001b[0m \u001b[1;33m==\u001b[0m \u001b[1;34m\"!copy\"\u001b[0m\u001b[1;33m\u001b[0m\u001b[1;33m\u001b[0m\u001b[0m\n\u001b[1;32m--> 368\u001b[1;33m             current_node = recursive_resolve(\n\u001b[0m\u001b[0;32m    369\u001b[0m                 \u001b[0mreference\u001b[0m\u001b[1;33m=\u001b[0m\u001b[0mcurrent_node\u001b[0m\u001b[1;33m.\u001b[0m\u001b[0mvalue\u001b[0m\u001b[1;33m,\u001b[0m\u001b[1;33m\u001b[0m\u001b[1;33m\u001b[0m\u001b[0m\n\u001b[0;32m    370\u001b[0m                 \u001b[0mreference_list\u001b[0m\u001b[1;33m=\u001b[0m\u001b[1;33m[\u001b[0m\u001b[1;33m]\u001b[0m\u001b[1;33m,\u001b[0m\u001b[1;33m\u001b[0m\u001b[1;33m\u001b[0m\u001b[0m\n",
      "\u001b[1;32m~\\anaconda3\\lib\\site-packages\\hyperpyyaml\\core.py\u001b[0m in \u001b[0;36mrecursive_resolve\u001b[1;34m(reference, reference_list, full_tree, copy_mode)\u001b[0m\n\u001b[0;32m    586\u001b[0m     \u001b[1;31m# First check for a full match. These replacements preserve type.\u001b[0m\u001b[1;33m\u001b[0m\u001b[1;33m\u001b[0m\u001b[0m\n\u001b[0;32m    587\u001b[0m     \u001b[1;32mif\u001b[0m \u001b[0mreference_finder\u001b[0m\u001b[1;33m.\u001b[0m\u001b[0mfullmatch\u001b[0m\u001b[1;33m(\u001b[0m\u001b[0mreference\u001b[0m\u001b[1;33m)\u001b[0m\u001b[1;33m:\u001b[0m\u001b[1;33m\u001b[0m\u001b[1;33m\u001b[0m\u001b[0m\n\u001b[1;32m--> 588\u001b[1;33m         \u001b[0mvalue\u001b[0m \u001b[1;33m=\u001b[0m \u001b[0mderef\u001b[0m\u001b[1;33m(\u001b[0m\u001b[0mreference\u001b[0m\u001b[1;33m.\u001b[0m\u001b[0mstrip\u001b[0m\u001b[1;33m(\u001b[0m\u001b[1;34m\"<>\"\u001b[0m\u001b[1;33m)\u001b[0m\u001b[1;33m,\u001b[0m \u001b[0mfull_tree\u001b[0m\u001b[1;33m,\u001b[0m \u001b[0mcopy_mode\u001b[0m\u001b[1;33m)\u001b[0m\u001b[1;33m\u001b[0m\u001b[1;33m\u001b[0m\u001b[0m\n\u001b[0m\u001b[0;32m    589\u001b[0m         \u001b[0mreference_list\u001b[0m \u001b[1;33m+=\u001b[0m \u001b[1;33m[\u001b[0m\u001b[0mreference\u001b[0m\u001b[1;33m]\u001b[0m\u001b[1;33m\u001b[0m\u001b[1;33m\u001b[0m\u001b[0m\n\u001b[0;32m    590\u001b[0m         \u001b[1;32mreturn\u001b[0m \u001b[0mrecursive_resolve\u001b[0m\u001b[1;33m(\u001b[0m\u001b[0mvalue\u001b[0m\u001b[1;33m,\u001b[0m \u001b[0mreference_list\u001b[0m\u001b[1;33m,\u001b[0m \u001b[0mfull_tree\u001b[0m\u001b[1;33m,\u001b[0m \u001b[0mcopy_mode\u001b[0m\u001b[1;33m)\u001b[0m\u001b[1;33m\u001b[0m\u001b[1;33m\u001b[0m\u001b[0m\n",
      "\u001b[1;32m~\\anaconda3\\lib\\site-packages\\hyperpyyaml\\core.py\u001b[0m in \u001b[0;36mderef\u001b[1;34m(ref, full_tree, copy_mode)\u001b[0m\n\u001b[0;32m    525\u001b[0m         \u001b[0mpart\u001b[0m \u001b[1;33m=\u001b[0m \u001b[0mpart\u001b[0m\u001b[1;33m.\u001b[0m\u001b[0mstrip\u001b[0m\u001b[1;33m(\u001b[0m\u001b[1;34m\"]\"\u001b[0m\u001b[1;33m)\u001b[0m\u001b[1;33m\u001b[0m\u001b[1;33m\u001b[0m\u001b[0m\n\u001b[0;32m    526\u001b[0m         \u001b[1;32mif\u001b[0m \u001b[0mpart\u001b[0m \u001b[1;32mnot\u001b[0m \u001b[1;32min\u001b[0m \u001b[0mbranch\u001b[0m\u001b[1;33m:\u001b[0m\u001b[1;33m\u001b[0m\u001b[1;33m\u001b[0m\u001b[0m\n\u001b[1;32m--> 527\u001b[1;33m             \u001b[1;32mraise\u001b[0m \u001b[0mValueError\u001b[0m\u001b[1;33m(\u001b[0m\u001b[1;34m'The reference \"%s\" is not valid'\u001b[0m \u001b[1;33m%\u001b[0m \u001b[0mref\u001b[0m\u001b[1;33m)\u001b[0m\u001b[1;33m\u001b[0m\u001b[1;33m\u001b[0m\u001b[0m\n\u001b[0m\u001b[0;32m    528\u001b[0m         \u001b[0mbranch\u001b[0m \u001b[1;33m=\u001b[0m \u001b[0mbranch\u001b[0m\u001b[1;33m[\u001b[0m\u001b[0mpart\u001b[0m\u001b[1;33m]\u001b[0m\u001b[1;33m\u001b[0m\u001b[1;33m\u001b[0m\u001b[0m\n\u001b[0;32m    529\u001b[0m \u001b[1;33m\u001b[0m\u001b[0m\n",
      "\u001b[1;31mValueError\u001b[0m: The reference \"MaskNet\" is not valid"
     ]
    }
   ],
   "source": [
    "spk_dia(wav,spk,'sc',1.5,0.75)"
   ]
  },
  {
   "cell_type": "code",
   "execution_count": 11,
   "id": "0308b057",
   "metadata": {},
   "outputs": [],
   "source": [
    "import speechbrain"
   ]
  },
  {
   "cell_type": "code",
   "execution_count": 12,
   "id": "a8c4ce9a",
   "metadata": {},
   "outputs": [
    {
     "data": {
      "text/plain": [
       "True"
      ]
     },
     "execution_count": 12,
     "metadata": {},
     "output_type": "execute_result"
    }
   ],
   "source": [
    "import sys\n",
    "'speechbrain' in sys.modules"
   ]
  },
  {
   "cell_type": "code",
   "execution_count": null,
   "id": "b08ff29e",
   "metadata": {},
   "outputs": [],
   "source": []
  }
 ],
 "metadata": {
  "kernelspec": {
   "display_name": "Python 3 (ipykernel)",
   "language": "python",
   "name": "python3"
  },
  "language_info": {
   "codemirror_mode": {
    "name": "ipython",
    "version": 3
   },
   "file_extension": ".py",
   "mimetype": "text/x-python",
   "name": "python",
   "nbconvert_exporter": "python",
   "pygments_lexer": "ipython3",
   "version": "3.9.7"
  }
 },
 "nbformat": 4,
 "nbformat_minor": 5
}
